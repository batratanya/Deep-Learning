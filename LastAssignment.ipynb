{
 "cells": [
  {
   "cell_type": "markdown",
   "metadata": {},
   "source": [
    "# Deep Learning Assignment:"
   ]
  },
  {
   "cell_type": "code",
   "execution_count": 1,
   "metadata": {},
   "outputs": [
    {
     "name": "stderr",
     "output_type": "stream",
     "text": [
      "Using TensorFlow backend.\n"
     ]
    }
   ],
   "source": [
    "import numpy as np\n",
    "import pandas as pd\n",
    "import tensorflow as tf\n",
    "from sklearn.model_selection import train_test_split\n",
    "from keras.utils import to_categorical\n",
    "import matplotlib.pyplot as plt\n",
    "\n",
    "%matplotlib inline"
   ]
  },
  {
   "cell_type": "markdown",
   "metadata": {},
   "source": [
    "### Reading the data from the files:"
   ]
  },
  {
   "cell_type": "code",
   "execution_count": 3,
   "metadata": {},
   "outputs": [],
   "source": [
    "trainX = pd.read_pickle(\"C:\\\\Users\\\\dell\\\\Downloads\\\\Assignment3\\\\trainX.pickle\")\n",
    "trainY = pd.read_pickle(\"C:\\\\Users\\\\dell\\\\Downloads\\\\Assignment3\\\\trainY.pickle\")\n",
    "testX = pd.read_pickle(\"C:\\\\Users\\\\dell\\\\Downloads\\\\Assignment3\\\\testX.pickle\")"
   ]
  },
  {
   "cell_type": "code",
   "execution_count": 5,
   "metadata": {},
   "outputs": [
    {
     "data": {
      "text/plain": [
       "(60000, 28, 28)"
      ]
     },
     "execution_count": 5,
     "metadata": {},
     "output_type": "execute_result"
    }
   ],
   "source": [
    "trainX.shape"
   ]
  },
  {
   "cell_type": "code",
   "execution_count": 6,
   "metadata": {},
   "outputs": [
    {
     "data": {
      "text/plain": [
       "(60000,)"
      ]
     },
     "execution_count": 6,
     "metadata": {},
     "output_type": "execute_result"
    }
   ],
   "source": [
    "trainY.shape"
   ]
  },
  {
   "cell_type": "markdown",
   "metadata": {},
   "source": [
    "### The first five images of the training set are:"
   ]
  },
  {
   "cell_type": "code",
   "execution_count": 7,
   "metadata": {},
   "outputs": [
    {
     "data": {
      "image/png": "[encoded data removed]",
      "text/plain": [
       "<Figure size 432x288 with 1 Axes>"
      ]
     },
     "metadata": {
      "needs_background": "light"
     },
     "output_type": "display_data"
    },
    {
     "data": {
      "image/png": "[encoded data removed]",
      "text/plain": [
       "<Figure size 432x288 with 1 Axes>"
      ]
     },
     "metadata": {
      "needs_background": "light"
     },
     "output_type": "display_data"
    },
    {
     "data": {
      "image/png": "[encoded data removed]",
      "text/plain": [
       "<Figure size 432x288 with 1 Axes>"
      ]
     },
     "metadata": {
      "needs_background": "light"
     },
     "output_type": "display_data"
    },
    {
     "data": {
      "image/png": "[encoded data removed]",
      "text/plain": [
       "<Figure size 432x288 with 1 Axes>"
      ]
     },
     "metadata": {
      "needs_background": "light"
     },
     "output_type": "display_data"
    },
    {
     "data": {
      "image/png": "[encoded data removed]",
      "text/plain": [
       "<Figure size 432x288 with 1 Axes>"
      ]
     },
     "metadata": {
      "needs_background": "light"
     },
     "output_type": "display_data"
    }
   ],
   "source": [
    "for i in range(5):\n",
    "    plt.imshow(trainX[i, :, :])\n",
    "    plt.show()"
   ]
  },
  {
   "cell_type": "code",
   "execution_count": 8,
   "metadata": {},
   "outputs": [
    {
     "name": "stdout",
     "output_type": "stream",
     "text": [
      "9\n",
      "0\n"
     ]
    }
   ],
   "source": [
    "print(max(trainY))\n",
    "print(min(trainY))"
   ]
  },
  {
   "cell_type": "code",
   "execution_count": 70,
   "metadata": {},
   "outputs": [],
   "source": [
    "# The above values signifies that the images in trainX belongs to 10 classes specified in trainY ranging between 0 to 9."
   ]
  },
  {
   "cell_type": "markdown",
   "metadata": {},
   "source": [
    "### Parameters:"
   ]
  },
  {
   "cell_type": "code",
   "execution_count": 58,
   "metadata": {},
   "outputs": [],
   "source": [
    "IMG_ROWS = 28\n",
    "IMG_COLS = 28\n",
    "NUM_CLASSES = 10\n",
    "#Model\n",
    "NO_EPOCHS = 50\n",
    "BATCH_SIZE = 128"
   ]
  },
  {
   "cell_type": "markdown",
   "metadata": {},
   "source": [
    "### Splitting and preprocessing the data:"
   ]
  },
  {
   "cell_type": "code",
   "execution_count": 59,
   "metadata": {},
   "outputs": [],
   "source": [
    "from sklearn.model_selection import train_test_split\n",
    "X_train, X_val, y_train, y_val = train_test_split(trainX, trainY, test_size=0.2, random_state=2018)"
   ]
  },
  {
   "cell_type": "code",
   "execution_count": 60,
   "metadata": {},
   "outputs": [],
   "source": [
    "X_train = X_train.reshape(X_train.shape[0], *(28, 28, 1))\n",
    "testX = testX.reshape(testX.shape[0], *(28, 28, 1))\n",
    "X_val = X_val.reshape(X_val.shape[0], *(28, 28, 1))"
   ]
  },
  {
   "cell_type": "markdown",
   "metadata": {},
   "source": [
    "## Training the model:"
   ]
  },
  {
   "cell_type": "code",
   "execution_count": 61,
   "metadata": {},
   "outputs": [],
   "source": [
    "from tensorflow.python import keras\n",
    "from keras.models import Sequential\n",
    "from keras.layers import Conv2D, Dense, Flatten, MaxPooling2D, Dropout\n",
    "from keras.optimizers import Adam\n",
    "from keras.callbacks import TensorBoard"
   ]
  },
  {
   "cell_type": "markdown",
   "metadata": {},
   "source": [
    "### Architecture: image->Conv2D->Maxpooling2D->Dropout->Conv2D->maxpooling->Dropout->Conv2D->Dropout->Flatten->Dense->Dropout->Dense"
   ]
  },
  {
   "cell_type": "code",
   "execution_count": 62,
   "metadata": {},
   "outputs": [],
   "source": [
    "#Model\n",
    "model = Sequential()\n",
    "# Add convolution 2D\n",
    "model.add(Conv2D(32, kernel_size=(3, 3), activation='relu',kernel_initializer='he_normal',input_shape=(IMG_ROWS, IMG_COLS, 1)))\n",
    "model.add(MaxPooling2D((2, 2)))\n",
    "# Add dropouts to the model\n",
    "model.add(Dropout(0.25))\n",
    "model.add(Conv2D(64, kernel_size=(3, 3), activation='relu'))\n",
    "model.add(MaxPooling2D(pool_size=(2, 2)))\n",
    "# Add dropouts to the model\n",
    "model.add(Dropout(0.25))\n",
    "model.add(Conv2D(128, (3, 3), activation='relu'))\n",
    "# Add dropouts to the model\n",
    "model.add(Dropout(0.4))\n",
    "model.add(Flatten())\n",
    "model.add(Dense(128, activation='relu'))\n",
    "# Add dropouts to the model\n",
    "model.add(Dropout(0.3))\n",
    "model.add(Dense(units=10, activation='softmax'))\n",
    "\n",
    "\n",
    "model.compile(loss='sparse_categorical_crossentropy',optimizer='adam',metrics=['accuracy'])\n"
   ]
  },
  {
   "cell_type": "markdown",
   "metadata": {},
   "source": [
    "### Inspecting the model:"
   ]
  },
  {
   "cell_type": "code",
   "execution_count": 63,
   "metadata": {},
   "outputs": [
    {
     "name": "stdout",
     "output_type": "stream",
     "text": [
      "_________________________________________________________________\n",
      "Layer (type)                 Output Shape              Param #   \n",
      "=================================================================\n",
      "conv2d_32 (Conv2D)           (None, 26, 26, 32)        320       \n",
      "_________________________________________________________________\n",
      "max_pooling2d_21 (MaxPooling (None, 13, 13, 32)        0         \n",
      "_________________________________________________________________\n",
      "dropout_41 (Dropout)         (None, 13, 13, 32)        0         \n",
      "_________________________________________________________________\n",
      "conv2d_33 (Conv2D)           (None, 11, 11, 64)        18496     \n",
      "_________________________________________________________________\n",
      "max_pooling2d_22 (MaxPooling (None, 5, 5, 64)          0         \n",
      "_________________________________________________________________\n",
      "dropout_42 (Dropout)         (None, 5, 5, 64)          0         \n",
      "_________________________________________________________________\n",
      "conv2d_34 (Conv2D)           (None, 3, 3, 128)         73856     \n",
      "_________________________________________________________________\n",
      "dropout_43 (Dropout)         (None, 3, 3, 128)         0         \n",
      "_________________________________________________________________\n",
      "flatten_11 (Flatten)         (None, 1152)              0         \n",
      "_________________________________________________________________\n",
      "dense_20 (Dense)             (None, 128)               147584    \n",
      "_________________________________________________________________\n",
      "dropout_44 (Dropout)         (None, 128)               0         \n",
      "_________________________________________________________________\n",
      "dense_21 (Dense)             (None, 10)                1290      \n",
      "=================================================================\n",
      "Total params: 241,546\n",
      "Trainable params: 241,546\n",
      "Non-trainable params: 0\n",
      "_________________________________________________________________\n"
     ]
    }
   ],
   "source": [
    "model.summary()"
   ]
  },
  {
   "cell_type": "markdown",
   "metadata": {},
   "source": [
    "### Running the model:"
   ]
  },
  {
   "cell_type": "code",
   "execution_count": 64,
   "metadata": {},
   "outputs": [
    {
     "name": "stdout",
     "output_type": "stream",
     "text": [
      "Train on 48000 samples, validate on 12000 samples\n",
      "Epoch 1/50\n",
      "48000/48000 [==============================] - 71s 1ms/step - loss: 0.7045 - acc: 0.7417 - val_loss: 0.4175 - val_acc: 0.8493\n",
      "Epoch 2/50\n",
      "48000/48000 [==============================] - 67s 1ms/step - loss: 0.4454 - acc: 0.8390 - val_loss: 0.3413 - val_acc: 0.8786\n",
      "Epoch 3/50\n",
      "48000/48000 [==============================] - 66s 1ms/step - loss: 0.3880 - acc: 0.8595 - val_loss: 0.3077 - val_acc: 0.8883\n",
      "Epoch 4/50\n",
      "48000/48000 [==============================] - 67s 1ms/step - loss: 0.3574 - acc: 0.8701 - val_loss: 0.2860 - val_acc: 0.8967\n",
      "Epoch 5/50\n",
      "48000/48000 [==============================] - 67s 1ms/step - loss: 0.3344 - acc: 0.8781 - val_loss: 0.2741 - val_acc: 0.9015\n",
      "Epoch 6/50\n",
      "48000/48000 [==============================] - 66s 1ms/step - loss: 0.3191 - acc: 0.8829 - val_loss: 0.2734 - val_acc: 0.9012\n",
      "Epoch 7/50\n",
      "48000/48000 [==============================] - 67s 1ms/step - loss: 0.3041 - acc: 0.8881 - val_loss: 0.2555 - val_acc: 0.9085\n",
      "Epoch 8/50\n",
      "48000/48000 [==============================] - 66s 1ms/step - loss: 0.2934 - acc: 0.8920 - val_loss: 0.2533 - val_acc: 0.9082\n",
      "Epoch 9/50\n",
      "48000/48000 [==============================] - 64s 1ms/step - loss: 0.2854 - acc: 0.8943 - val_loss: 0.2443 - val_acc: 0.9123\n",
      "Epoch 10/50\n",
      "48000/48000 [==============================] - 65s 1ms/step - loss: 0.2800 - acc: 0.8954 - val_loss: 0.2466 - val_acc: 0.9081\n",
      "Epoch 11/50\n",
      "48000/48000 [==============================] - 67s 1ms/step - loss: 0.2723 - acc: 0.8990 - val_loss: 0.2342 - val_acc: 0.9126\n",
      "Epoch 12/50\n",
      "48000/48000 [==============================] - 65s 1ms/step - loss: 0.2639 - acc: 0.9017 - val_loss: 0.2327 - val_acc: 0.9137\n",
      "Epoch 13/50\n",
      "48000/48000 [==============================] - 66s 1ms/step - loss: 0.2608 - acc: 0.9039 - val_loss: 0.2324 - val_acc: 0.9133\n",
      "Epoch 14/50\n",
      "48000/48000 [==============================] - 66s 1ms/step - loss: 0.2546 - acc: 0.9056 - val_loss: 0.2262 - val_acc: 0.9176\n",
      "Epoch 15/50\n",
      "48000/48000 [==============================] - 67s 1ms/step - loss: 0.2461 - acc: 0.9080 - val_loss: 0.2247 - val_acc: 0.9175\n",
      "Epoch 16/50\n",
      "48000/48000 [==============================] - 65s 1ms/step - loss: 0.2430 - acc: 0.9089 - val_loss: 0.2292 - val_acc: 0.9147\n",
      "Epoch 17/50\n",
      "48000/48000 [==============================] - 67s 1ms/step - loss: 0.2410 - acc: 0.9105 - val_loss: 0.2228 - val_acc: 0.9178\n",
      "Epoch 18/50\n",
      "48000/48000 [==============================] - 66s 1ms/step - loss: 0.2385 - acc: 0.9114 - val_loss: 0.2197 - val_acc: 0.9207\n",
      "Epoch 19/50\n",
      "48000/48000 [==============================] - 65s 1ms/step - loss: 0.2349 - acc: 0.9125 - val_loss: 0.2181 - val_acc: 0.9190\n",
      "Epoch 20/50\n",
      "48000/48000 [==============================] - 66s 1ms/step - loss: 0.2338 - acc: 0.9127 - val_loss: 0.2177 - val_acc: 0.9190\n",
      "Epoch 21/50\n",
      "48000/48000 [==============================] - 66s 1ms/step - loss: 0.2316 - acc: 0.9117 - val_loss: 0.2222 - val_acc: 0.9184\n",
      "Epoch 22/50\n",
      "48000/48000 [==============================] - 65s 1ms/step - loss: 0.2269 - acc: 0.9136 - val_loss: 0.2259 - val_acc: 0.9157\n",
      "Epoch 23/50\n",
      "48000/48000 [==============================] - 65s 1ms/step - loss: 0.2229 - acc: 0.9171 - val_loss: 0.2102 - val_acc: 0.9213\n",
      "Epoch 24/50\n",
      "48000/48000 [==============================] - 65s 1ms/step - loss: 0.2209 - acc: 0.9167 - val_loss: 0.2147 - val_acc: 0.9204\n",
      "Epoch 25/50\n",
      "48000/48000 [==============================] - 66s 1ms/step - loss: 0.2215 - acc: 0.9161 - val_loss: 0.2145 - val_acc: 0.9225\n",
      "Epoch 26/50\n",
      "48000/48000 [==============================] - 65s 1ms/step - loss: 0.2189 - acc: 0.9174 - val_loss: 0.2136 - val_acc: 0.9201\n",
      "Epoch 27/50\n",
      "48000/48000 [==============================] - 66s 1ms/step - loss: 0.2159 - acc: 0.9198 - val_loss: 0.2089 - val_acc: 0.9226\n",
      "Epoch 28/50\n",
      "48000/48000 [==============================] - 68s 1ms/step - loss: 0.2114 - acc: 0.9210 - val_loss: 0.2074 - val_acc: 0.9247\n",
      "Epoch 29/50\n",
      "48000/48000 [==============================] - 68s 1ms/step - loss: 0.2111 - acc: 0.9200 - val_loss: 0.2148 - val_acc: 0.9191\n",
      "Epoch 30/50\n",
      "48000/48000 [==============================] - 67s 1ms/step - loss: 0.2082 - acc: 0.9222 - val_loss: 0.2103 - val_acc: 0.9220\n",
      "Epoch 31/50\n",
      "48000/48000 [==============================] - 67s 1ms/step - loss: 0.2074 - acc: 0.9238 - val_loss: 0.2111 - val_acc: 0.9236\n",
      "Epoch 32/50\n",
      "48000/48000 [==============================] - 65s 1ms/step - loss: 0.2056 - acc: 0.9225 - val_loss: 0.2069 - val_acc: 0.9238\n",
      "Epoch 33/50\n",
      "48000/48000 [==============================] - 66s 1ms/step - loss: 0.2058 - acc: 0.9228 - val_loss: 0.2086 - val_acc: 0.9224\n",
      "Epoch 34/50\n",
      "48000/48000 [==============================] - 66s 1ms/step - loss: 0.2033 - acc: 0.9227 - val_loss: 0.2174 - val_acc: 0.9183\n",
      "Epoch 35/50\n",
      "48000/48000 [==============================] - 66s 1ms/step - loss: 0.2009 - acc: 0.9245 - val_loss: 0.2184 - val_acc: 0.9197\n",
      "Epoch 36/50\n",
      "48000/48000 [==============================] - 66s 1ms/step - loss: 0.1981 - acc: 0.9255 - val_loss: 0.2147 - val_acc: 0.9213\n",
      "Epoch 37/50\n",
      "48000/48000 [==============================] - 65s 1ms/step - loss: 0.1979 - acc: 0.9255 - val_loss: 0.2066 - val_acc: 0.9260\n",
      "Epoch 38/50\n",
      "48000/48000 [==============================] - 65s 1ms/step - loss: 0.2000 - acc: 0.9255 - val_loss: 0.2107 - val_acc: 0.9235\n",
      "Epoch 39/50\n",
      "48000/48000 [==============================] - 66s 1ms/step - loss: 0.1979 - acc: 0.9245 - val_loss: 0.2077 - val_acc: 0.9250\n",
      "Epoch 40/50\n",
      "48000/48000 [==============================] - 65s 1ms/step - loss: 0.1953 - acc: 0.9261 - val_loss: 0.2136 - val_acc: 0.9240\n",
      "Epoch 41/50\n",
      "48000/48000 [==============================] - 65s 1ms/step - loss: 0.1975 - acc: 0.9252 - val_loss: 0.2025 - val_acc: 0.9269\n",
      "Epoch 42/50\n",
      "48000/48000 [==============================] - 65s 1ms/step - loss: 0.1947 - acc: 0.9260 - val_loss: 0.2099 - val_acc: 0.9255\n",
      "Epoch 43/50\n",
      "48000/48000 [==============================] - 67s 1ms/step - loss: 0.1922 - acc: 0.9265 - val_loss: 0.2071 - val_acc: 0.9259\n",
      "Epoch 44/50\n",
      "48000/48000 [==============================] - 68s 1ms/step - loss: 0.1925 - acc: 0.9262 - val_loss: 0.2063 - val_acc: 0.9258\n",
      "Epoch 45/50\n",
      "48000/48000 [==============================] - 67s 1ms/step - loss: 0.1912 - acc: 0.9266 - val_loss: 0.2047 - val_acc: 0.9272\n",
      "Epoch 46/50\n",
      "48000/48000 [==============================] - 66s 1ms/step - loss: 0.1906 - acc: 0.9287 - val_loss: 0.2060 - val_acc: 0.9278\n",
      "Epoch 47/50\n",
      "48000/48000 [==============================] - 66s 1ms/step - loss: 0.1855 - acc: 0.9302 - val_loss: 0.2066 - val_acc: 0.9266\n",
      "Epoch 48/50\n",
      "48000/48000 [==============================] - 65s 1ms/step - loss: 0.1854 - acc: 0.9297 - val_loss: 0.2135 - val_acc: 0.9248\n",
      "Epoch 49/50\n",
      "48000/48000 [==============================] - 65s 1ms/step - loss: 0.1876 - acc: 0.9298 - val_loss: 0.2085 - val_acc: 0.9260\n",
      "Epoch 50/50\n",
      "48000/48000 [==============================] - 65s 1ms/step - loss: 0.1881 - acc: 0.9292 - val_loss: 0.2141 - val_acc: 0.9228\n"
     ]
    },
    {
     "data": {
      "text/plain": [
       "<keras.callbacks.History at 0x24a8d2f1da0>"
      ]
     },
     "execution_count": 64,
     "metadata": {},
     "output_type": "execute_result"
    }
   ],
   "source": [
    "model.fit(X_train, y_train, batch_size=BATCH_SIZE, epochs=NO_EPOCHS, verbose=1, validation_data=(X_val, y_val))"
   ]
  },
  {
   "cell_type": "code",
   "execution_count": 67,
   "metadata": {},
   "outputs": [],
   "source": [
    "y_pred = model.predict_classes(testX)"
   ]
  },
  {
   "cell_type": "code",
   "execution_count": 68,
   "metadata": {},
   "outputs": [
    {
     "data": {
      "text/plain": [
       "array([9, 2, 1, ..., 8, 1, 5], dtype=int64)"
      ]
     },
     "execution_count": 68,
     "metadata": {},
     "output_type": "execute_result"
    }
   ],
   "source": [
    "y_pred"
   ]
  },
  {
   "cell_type": "code",
   "execution_count": 69,
   "metadata": {},
   "outputs": [],
   "source": [
    "pd.DataFrame(y_pred).to_pickle(\"Predictions.pickle\")"
   ]
  },
  {
   "cell_type": "markdown",
   "metadata": {},
   "source": [
    "### With a complex sequential model of multiple convolution layers and multiple dropout layers (to reduce overfitting) , an accuracy of ~93% is obtained. Results are saved in \"Predictions.pickle\" file."
   ]
  },
  {
   "cell_type": "code",
   "execution_count": null,
   "metadata": {},
   "outputs": [],
   "source": []
  }
 ],
 "metadata": {
  "kernelspec": {
   "display_name": "Python 3",
   "language": "python",
   "name": "python3"
  },
  "language_info": {
   "codemirror_mode": {
    "name": "ipython",
    "version": 3
   },
   "file_extension": ".py",
   "mimetype": "text/x-python",
   "name": "python",
   "nbconvert_exporter": "python",
   "pygments_lexer": "ipython3",
   "version": "3.6.8"
  }
 },
 "nbformat": 4,
 "nbformat_minor": 2
}
